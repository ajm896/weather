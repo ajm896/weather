{
 "cells": [
  {
   "cell_type": "code",
   "execution_count": 1,
   "id": "6b3cf864",
   "metadata": {},
   "outputs": [
    {
     "name": "stdout",
     "output_type": "stream",
     "text": [
      "Fetching latest forecast data...\n",
      "Forecast data saved to forecast.json\n",
      "Forecast data saved to forecast.json\n",
      "Forecast data saved to forecast.json\n",
      "All forecasts updated.\n"
     ]
    }
   ],
   "source": [
    "%load_ext autoreload\n",
    "%autoreload 2\n",
    "import utils.models as models  # noqa: F403\n",
    "import utils.api as api\n",
    "\n",
    "api.update_all_forecasts(\"work\")"
   ]
  },
  {
   "cell_type": "code",
   "execution_count": 78,
   "id": "16697e8b",
   "metadata": {},
   "outputs": [],
   "source": [
    "data = api.load_cached_data(\"work_CACHED_FORCAST_DATA.json\")\n",
    "m = models.Gridpoint12hForecastGeoJson.model_validate(data)"
   ]
  },
  {
   "cell_type": "code",
   "execution_count": 87,
   "id": "67ce0d8e",
   "metadata": {},
   "outputs": [
    {
     "name": "stdout",
     "output_type": "stream",
     "text": [
      "Geometry:\n",
      "type: Polygon\n",
      "coordinates:\n",
      "[[[-82.5387, 35.4661], [-82.5361, 35.488499999999995], [-82.5635999, 35.49059999999999], [-82.5661, 35.468199999999996], [-82.5387, 35.4661]]])\n",
      "\n",
      "\n",
      "Gridpoint 12h Forecast:\n",
      "Units: us\n",
      "ForecastGenerator: BaselineForecastGenerator\n",
      "GeneratedAt: 2025-06-23T15:27:53+00:00\n",
      "UpdateTime: 2025-06-23T14:57:51+00:00\n",
      "ValidTimes: 2025-06-23T08:00:00+00:00/P8DT4H\n",
      "Elevation: 640.08 wmoUnit:m\n",
      "\n",
      "Periods: Today (2025-06-23T11:00:00-04:00 - 2025-06-23T18:00:00-04:00): Sunny then Slight Chance Showers And Thunderstorms, \n",
      "Tonight (2025-06-23T18:00:00-04:00 - 2025-06-24T06:00:00-04:00): Mostly Clear, \n",
      "Tuesday (2025-06-24T06:00:00-04:00 - 2025-06-24T18:00:00-04:00): Patchy Fog then Slight Chance Showers And Thunderstorms, \n",
      "Tuesday Night (2025-06-24T18:00:00-04:00 - 2025-06-25T06:00:00-04:00): Slight Chance Showers And Thunderstorms then Partly Cloudy, \n",
      "Wednesday (2025-06-25T06:00:00-04:00 - 2025-06-25T18:00:00-04:00): Mostly Sunny then Chance Showers And Thunderstorms, \n",
      "Wednesday Night (2025-06-25T18:00:00-04:00 - 2025-06-26T06:00:00-04:00): Chance Showers And Thunderstorms, \n",
      "Thursday (2025-06-26T06:00:00-04:00 - 2025-06-26T18:00:00-04:00): Showers And Thunderstorms Likely, \n",
      "Thursday Night (2025-06-26T18:00:00-04:00 - 2025-06-27T06:00:00-04:00): Chance Showers And Thunderstorms, \n",
      "Friday (2025-06-27T06:00:00-04:00 - 2025-06-27T18:00:00-04:00): Showers And Thunderstorms Likely, \n",
      "Friday Night (2025-06-27T18:00:00-04:00 - 2025-06-28T06:00:00-04:00): Showers And Thunderstorms Likely, \n",
      "Saturday (2025-06-28T06:00:00-04:00 - 2025-06-28T18:00:00-04:00): Showers And Thunderstorms Likely, \n",
      "Saturday Night (2025-06-28T18:00:00-04:00 - 2025-06-29T06:00:00-04:00): Showers And Thunderstorms Likely, \n",
      "Sunday (2025-06-29T06:00:00-04:00 - 2025-06-29T18:00:00-04:00): Slight Chance Showers And Thunderstorms then Chance Showers And Thunderstorms, \n",
      "Sunday Night (2025-06-29T18:00:00-04:00 - 2025-06-30T06:00:00-04:00): Showers And Thunderstorms Likely then Chance Showers And Thunderstorms\n",
      "        )\n"
     ]
    }
   ],
   "source": [
    "print(m)"
   ]
  },
  {
   "cell_type": "code",
   "execution_count": null,
   "id": "e7ab38cc",
   "metadata": {},
   "outputs": [
    {
     "data": {
      "text/plain": [
       "91"
      ]
     },
     "execution_count": 21,
     "metadata": {},
     "output_type": "execute_result"
    }
   ],
   "source": []
  },
  {
   "cell_type": "code",
   "execution_count": null,
   "id": "abd165f4",
   "metadata": {},
   "outputs": [
    {
     "data": {
      "text/plain": [
       "_Gridpoint12hForecastPeriod(number=1, name='This Afternoon', startTime='2025-06-20T14:00:00-04:00', endTime='2025-06-20T18:00:00-04:00', isDaytime=True, temperature=80, temperatureUnit='F', temperatureTrend='', probabilityOfPrecipitation=_QuantitativeValue(value=10, unitCode='wmoUnit:percent'), windSpeed='2 to 6 mph', windDirection='NNW', icon='https://api.weather.gov/icons/land/day/bkn?size=medium', shortForecast='Partly Sunny', detailedForecast='Partly sunny, with a high near 80. North northwest wind 2 to 6 mph.')"
      ]
     },
     "execution_count": 7,
     "metadata": {},
     "output_type": "execute_result"
    }
   ],
   "source": []
  }
 ],
 "metadata": {
  "kernelspec": {
   "display_name": ".venv",
   "language": "python",
   "name": "python3"
  },
  "language_info": {
   "codemirror_mode": {
    "name": "ipython",
    "version": 3
   },
   "file_extension": ".py",
   "mimetype": "text/x-python",
   "name": "python",
   "nbconvert_exporter": "python",
   "pygments_lexer": "ipython3",
   "version": "3.13.3"
  }
 },
 "nbformat": 4,
 "nbformat_minor": 5
}
