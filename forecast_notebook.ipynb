{
 "cells": [
  {
   "cell_type": "code",
   "execution_count": 2,
   "id": "6b3cf864",
   "metadata": {},
   "outputs": [
    {
     "name": "stdout",
     "output_type": "stream",
     "text": [
      "Fetching latest forecast data...\n",
      "Forecast data saved to forecast.json\n",
      "Forecast data saved to forecast.json\n",
      "Forecast data saved to forecast.json\n",
      "All forecasts updated.\n"
     ]
    }
   ],
   "source": [
    "%load_ext autoreload\n",
    "%autoreload 2\n",
    "import utils.models as models  # noqa: F403\n",
    "import utils.api as api\n",
    "\n",
    "CACHED_HOURLY_DATA = \"cached_hourly_data.json\"\n",
    "CACHED_FORCAST_DATA = \"cached_forecast_data.json\"\n",
    "CACHED_RAW_DATA = \"cached_raw_data.json\"\n",
    "\n",
    "api.update_all_forecasts()"
   ]
  },
  {
   "cell_type": "code",
   "execution_count": 3,
   "id": "16697e8b",
   "metadata": {},
   "outputs": [],
   "source": [
    "data = api.load_cached_data(CACHED_FORCAST_DATA)\n",
    "m = models.Gridpoint12hForecastGeoJson.model_validate(data)"
   ]
  },
  {
   "cell_type": "code",
   "execution_count": 7,
   "id": "abd165f4",
   "metadata": {},
   "outputs": [
    {
     "data": {
      "text/plain": [
       "_Gridpoint12hForecastPeriod(number=1, name='This Afternoon', startTime='2025-06-20T14:00:00-04:00', endTime='2025-06-20T18:00:00-04:00', isDaytime=True, temperature=80, temperatureUnit='F', temperatureTrend='', probabilityOfPrecipitation=_QuantitativeValue(value=10, unitCode='wmoUnit:percent'), windSpeed='2 to 6 mph', windDirection='NNW', icon='https://api.weather.gov/icons/land/day/bkn?size=medium', shortForecast='Partly Sunny', detailedForecast='Partly sunny, with a high near 80. North northwest wind 2 to 6 mph.')"
      ]
     },
     "execution_count": 7,
     "metadata": {},
     "output_type": "execute_result"
    }
   ],
   "source": [
    "m.properties.periods[0]"
   ]
  }
 ],
 "metadata": {
  "kernelspec": {
   "display_name": ".venv",
   "language": "python",
   "name": "python3"
  },
  "language_info": {
   "codemirror_mode": {
    "name": "ipython",
    "version": 3
   },
   "file_extension": ".py",
   "mimetype": "text/x-python",
   "name": "python",
   "nbconvert_exporter": "python",
   "pygments_lexer": "ipython3",
   "version": "3.13.5"
  }
 },
 "nbformat": 4,
 "nbformat_minor": 5
}
