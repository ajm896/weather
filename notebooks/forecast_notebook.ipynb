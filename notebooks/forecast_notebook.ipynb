{
 "cells": [
  {
   "cell_type": "code",
   "execution_count": null,
   "id": "6b3cf864",
   "metadata": {},
   "outputs": [
    {
     "name": "stdout",
     "output_type": "stream",
     "text": [
      "Fetching latest forecast data...\n",
      "Forecast data saved to forecast.json\n",
      "Forecast data saved to forecast.json\n",
      "Forecast data saved to forecast.json\n",
      "All forecasts updated.\n"
     ]
    }
   ],
   "source": [
    "%load_ext autoreload\n",
    "%autoreload 2\n",
    "import core.models as models  # noqa: F403\n",
    "import core.api as api\n",
    "\n",
    "api.update_all_forecasts(\"work\")"
   ]
  },
  {
   "cell_type": "code",
   "execution_count": 19,
   "id": "16697e8b",
   "metadata": {},
   "outputs": [],
   "source": [
    "forecastType = \"HOURLY\"\n",
    "data = api.load_cached_data(f\"work_CACHED_{forecastType}_DATA.json\")\n",
    "mH = models.GridpointHourlyForecastGeoJson.model_validate(data)"
   ]
  },
  {
   "cell_type": "code",
   "execution_count": 20,
   "id": "4362c9e6",
   "metadata": {},
   "outputs": [],
   "source": [
    "forecastType = \"FORCAST\"\n",
    "data = api.load_cached_data(f\"work_CACHED_{forecastType}_DATA.json\")\n",
    "mF = models.Gridpoint12hForecastGeoJson.model_validate(data)"
   ]
  },
  {
   "cell_type": "code",
   "execution_count": 21,
   "id": "05aac139",
   "metadata": {},
   "outputs": [],
   "source": [
    "forecastType = \"RAW\"\n",
    "data = api.load_cached_data(f\"work_CACHED_{forecastType}_DATA.json\")\n",
    "mR = models.GridpointGeoJson.model_validate(data)"
   ]
  },
  {
   "cell_type": "code",
   "execution_count": 31,
   "id": "67ce0d8e",
   "metadata": {},
   "outputs": [
    {
     "name": "stdout",
     "output_type": "stream",
     "text": [
      "\n",
      "Gridpoint 12h Forecast:\n",
      "Units: us\n",
      "ForecastGenerator: BaselineForecastGenerator\n",
      "GeneratedAt: 2025-06-23T15:27:53+00:00\n",
      "UpdateTime: 2025-06-23T14:57:51+00:00\n",
      "ValidTimes: 2025-06-23T08:00:00+00:00/P8DT4H\n",
      "Elevation: 640.08 wmoUnit:m\n",
      "\n",
      "Periods:\n",
      "Today: A slight chance of showers and thunderstorms after 4pm. Sunny, with a high near 91. East northeast wind 3 to 7 mph. Chance of precipitation is 20%. New rainfall amounts less than a tenth of an inch possible.\n",
      "\n",
      "Tonight: Mostly clear, with a low around 68. Northwest wind around 3 mph. New rainfall amounts less than a tenth of an inch possible.\n",
      "\n",
      "Tuesday: Patchy fog between 7am and 8am, then a slight chance of showers and thunderstorms. Sunny, with a high near 92. North northeast wind around 3 mph. Chance of precipitation is 20%. New rainfall amounts less than a tenth of an inch possible.\n",
      "\n",
      "Tuesday Night: A slight chance of showers and thunderstorms before midnight. Partly cloudy, with a low around 69. North northwest wind around 2 mph. Chance of precipitation is 20%. New rainfall amounts less than a tenth of an inch possible.\n",
      "\n",
      "Wednesday: A chance of showers and thunderstorms after 2pm. Mostly sunny, with a high near 91. North wind around 3 mph. Chance of precipitation is 50%.\n",
      "\n",
      "Wednesday Night: A chance of showers and thunderstorms before 11pm, then a chance of showers and thunderstorms between 11pm and 1am, then a slight chance of showers and thunderstorms. Mostly cloudy, with a low around 68. Chance of precipitation is 50%.\n",
      "\n",
      "Thursday: A slight chance of rain showers before 8am, then showers and thunderstorms likely. Mostly sunny, with a high near 90. Chance of precipitation is 60%.\n",
      "\n",
      "Thursday Night: A chance of showers and thunderstorms. Partly cloudy, with a low around 68. Chance of precipitation is 50%.\n",
      "\n",
      "Friday: A slight chance of rain showers before 8am, then showers and thunderstorms likely. Mostly sunny, with a high near 87. Chance of precipitation is 60%.\n",
      "\n",
      "Friday Night: Showers and thunderstorms likely. Partly cloudy, with a low around 67. Chance of precipitation is 60%.\n",
      "\n",
      "Saturday: A slight chance of rain showers before 8am, then showers and thunderstorms likely. Mostly sunny, with a high near 87. Chance of precipitation is 60%.\n",
      "\n",
      "Saturday Night: Showers and thunderstorms likely. Partly cloudy, with a low around 68. Chance of precipitation is 60%.\n",
      "\n",
      "Sunday: A slight chance of rain showers before 8am, then a slight chance of showers and thunderstorms between 8am and 10am, then a chance of showers and thunderstorms between 10am and 2pm, then showers and thunderstorms likely. Mostly sunny, with a high near 87. Chance of precipitation is 60%.\n",
      "\n",
      "Sunday Night: Showers and thunderstorms likely before 8pm, then a chance of showers and thunderstorms between 8pm and 1am, then a slight chance of showers and thunderstorms. Partly cloudy, with a low around 67.\n",
      "        \n"
     ]
    }
   ],
   "source": [
    "print(mF.properties)"
   ]
  }
 ],
 "metadata": {
  "kernelspec": {
   "display_name": ".venv",
   "language": "python",
   "name": "python3"
  },
  "language_info": {
   "codemirror_mode": {
    "name": "ipython",
    "version": 3
   },
   "file_extension": ".py",
   "mimetype": "text/x-python",
   "name": "python",
   "nbconvert_exporter": "python",
   "pygments_lexer": "ipython3",
   "version": "3.13.3"
  }
 },
 "nbformat": 4,
 "nbformat_minor": 5
}
