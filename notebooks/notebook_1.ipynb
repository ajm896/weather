{
 "cells": [
  {
   "cell_type": "code",
   "execution_count": null,
   "id": "3ee9ea87",
   "metadata": {
    "vscode": {
     "languageId": "markdown"
    }
   },
   "outputs": [],
   "source": [
    "\"\"\"\n",
    "# Weather Data Processing and Analysis Notebook\n",
    "\n",
    "This notebook demonstrates the process of loading, transforming, and analyzing weather forecast data using pandas and custom utility modules.\n",
    "\n",
    "## Workflow Overview\n",
    "\n",
    "1. **Imports and Setup**\n",
    "    - Load autoreload extension for development convenience.\n",
    "    - Import custom modules for models and API access.\n",
    "    - Define constants for cached data file paths.\n",
    "\n",
    "2. **Data Loading**\n",
    "    - Load cached raw weather data using the API utility.\n",
    "\n",
    "3. **Data Validation and Extraction**\n",
    "    - Validate and parse the loaded data into a structured model (`GridpointGeoJson`).\n",
    "    - Extract apparent temperature values into a pandas DataFrame.\n",
    "\n",
    "4. **Data Transformation**\n",
    "    - Convert temperature values from Celsius to Fahrenheit.\n",
    "    - Parse and extract duration and start time from the `validTime` field.\n",
    "    - Set the DataFrame index to the parsed start time.\n",
    "    - Convert the index to timezone-aware UTC timestamps.\n",
    "    - Clean up unnecessary columns.\n",
    "\n",
    "5. **Hourly Data Expansion**\n",
    "    - Reindex the DataFrame to a complete hourly range, forward-filling to unpack multi-hour forecast blocks.\n",
    "    - Convert the DataFrame to the local timezone (America/New_York).\n",
    "\n",
    "6. **Visualization and Analysis**\n",
    "    - Plot the hourly temperature values.\n",
    "    - Compute daily statistics (min, max, mean).\n",
    "    - Compute rolling 3-hour mean values (`roll3h`).\n",
    "    - Export the processed hourly data to CSV.\n",
    "\n",
    "## Key Variables\n",
    "\n",
    "- `df`: DataFrame containing parsed and transformed apparent temperature data.\n",
    "- `df_hourly`: DataFrame with hourly, timezone-localized temperature values.\n",
    "- `daily`: DataFrame with daily aggregated statistics.\n",
    "- `roll3h`: DataFrame with 3-hour rolling mean of temperature values.\n",
    "\n",
    "## Usage\n",
    "\n",
    "- Run each cell sequentially to reproduce the data processing and analysis pipeline.\n",
    "- Modify file paths or timezone as needed for your specific use case.\n",
    "\n",
    "---\n",
    "\"\"\""
   ]
  },
  {
   "cell_type": "markdown",
   "id": "22cb8ac7",
   "metadata": {},
   "source": []
  },
  {
   "cell_type": "code",
   "execution_count": null,
   "id": "55b8ffa7",
   "metadata": {},
   "outputs": [],
   "source": [
    "%load_ext autoreload\n",
    "%autoreload 2\n",
    "import utils.models as models  # noqa: F403\n",
    "import utils.api as api\n",
    "\n",
    "CACHED_HOURLY_DATA = \"cached_hourly_data.json\"\n",
    "CACHED_FORCAST_DATA = \"cached_forecast_data.json\"\n",
    "CACHED_RAW_DATA = \"cached_raw_data.json\"\n",
    "\n",
    "FORCASTS = (CACHED_FORCAST_DATA, CACHED_HOURLY_DATA, CACHED_RAW_DATA)\n",
    "# api.update_all_forecasts()"
   ]
  },
  {
   "cell_type": "code",
   "execution_count": 3,
   "id": "d4f38e89",
   "metadata": {},
   "outputs": [],
   "source": [
    "data = api.load_cached_data(CACHED_RAW_DATA)"
   ]
  },
  {
   "cell_type": "code",
   "execution_count": 16,
   "id": "76459825",
   "metadata": {},
   "outputs": [],
   "source": [
    "m = models.GridpointGeoJson.model_validate(data)\n"
   ]
  },
  {
   "cell_type": "code",
   "execution_count": 5,
   "id": "361ad51f",
   "metadata": {},
   "outputs": [],
   "source": [
    "import pandas as pd\n",
    "\n",
    "df = pd.DataFrame(m.properties.apparentTemperature.values)  # type: ignore\n",
    "df.value = df.value * 9 / 5 + 32  # Convert to Fahrenheit\n"
   ]
  },
  {
   "cell_type": "code",
   "execution_count": 6,
   "id": "08c0e79c",
   "metadata": {},
   "outputs": [],
   "source": [
    "df[\"dur\"] = df[\"validTime\"].apply(\n",
    "    lambda x: x.split(\"/\")[1] if len(x.split(\"/\")) > 1 else None\n",
    ")"
   ]
  },
  {
   "cell_type": "code",
   "execution_count": 7,
   "id": "ba2c745f",
   "metadata": {},
   "outputs": [],
   "source": [
    "df[\"starttime\"] = df[\"validTime\"].apply(\n",
    "    lambda x: x.split(\"/\")[0] if len(x.split(\"/\")) > 0 else None\n",
    ")"
   ]
  },
  {
   "cell_type": "code",
   "execution_count": null,
   "id": "ba850d8c",
   "metadata": {},
   "outputs": [],
   "source": [
    "df.index = df.starttime  # type: ignore"
   ]
  },
  {
   "cell_type": "code",
   "execution_count": 9,
   "id": "068ba315",
   "metadata": {},
   "outputs": [],
   "source": [
    "df[\"duration\"] = df[\"dur\"].apply(\n",
    "    lambda x: int(x.split(\"PT\")[1].replace(\"H\", \"\")) if x else None\n",
    ")"
   ]
  },
  {
   "cell_type": "code",
   "execution_count": 10,
   "id": "2ed97598",
   "metadata": {},
   "outputs": [],
   "source": [
    "df.drop(columns=[\"dur\"], inplace=True)"
   ]
  },
  {
   "cell_type": "code",
   "execution_count": 11,
   "id": "66868fb7",
   "metadata": {},
   "outputs": [],
   "source": [
    "df.index = pd.to_datetime(df.index)  # yields tz-aware UTC timestamps\n"
   ]
  },
  {
   "cell_type": "code",
   "execution_count": 12,
   "id": "770f1600",
   "metadata": {},
   "outputs": [
    {
     "data": {
      "text/html": [
       "<div>\n",
       "<style scoped>\n",
       "    .dataframe tbody tr th:only-of-type {\n",
       "        vertical-align: middle;\n",
       "    }\n",
       "\n",
       "    .dataframe tbody tr th {\n",
       "        vertical-align: top;\n",
       "    }\n",
       "\n",
       "    .dataframe thead th {\n",
       "        text-align: right;\n",
       "    }\n",
       "</style>\n",
       "<table border=\"1\" class=\"dataframe\">\n",
       "  <thead>\n",
       "    <tr style=\"text-align: right;\">\n",
       "      <th></th>\n",
       "      <th>validTime</th>\n",
       "      <th>value</th>\n",
       "      <th>starttime</th>\n",
       "      <th>duration</th>\n",
       "    </tr>\n",
       "    <tr>\n",
       "      <th>starttime</th>\n",
       "      <th></th>\n",
       "      <th></th>\n",
       "      <th></th>\n",
       "      <th></th>\n",
       "    </tr>\n",
       "  </thead>\n",
       "  <tbody>\n",
       "    <tr>\n",
       "      <th>2025-06-20 12:00:00+00:00</th>\n",
       "      <td>2025-06-20T12:00:00+00:00/PT1H</td>\n",
       "      <td>65.0</td>\n",
       "      <td>2025-06-20T12:00:00+00:00</td>\n",
       "      <td>1</td>\n",
       "    </tr>\n",
       "    <tr>\n",
       "      <th>2025-06-20 13:00:00+00:00</th>\n",
       "      <td>2025-06-20T13:00:00+00:00/PT1H</td>\n",
       "      <td>68.0</td>\n",
       "      <td>2025-06-20T13:00:00+00:00</td>\n",
       "      <td>1</td>\n",
       "    </tr>\n",
       "    <tr>\n",
       "      <th>2025-06-20 14:00:00+00:00</th>\n",
       "      <td>2025-06-20T14:00:00+00:00/PT1H</td>\n",
       "      <td>71.0</td>\n",
       "      <td>2025-06-20T14:00:00+00:00</td>\n",
       "      <td>1</td>\n",
       "    </tr>\n",
       "    <tr>\n",
       "      <th>2025-06-20 15:00:00+00:00</th>\n",
       "      <td>2025-06-20T15:00:00+00:00/PT1H</td>\n",
       "      <td>74.0</td>\n",
       "      <td>2025-06-20T15:00:00+00:00</td>\n",
       "      <td>1</td>\n",
       "    </tr>\n",
       "    <tr>\n",
       "      <th>2025-06-20 16:00:00+00:00</th>\n",
       "      <td>2025-06-20T16:00:00+00:00/PT1H</td>\n",
       "      <td>76.0</td>\n",
       "      <td>2025-06-20T16:00:00+00:00</td>\n",
       "      <td>1</td>\n",
       "    </tr>\n",
       "  </tbody>\n",
       "</table>\n",
       "</div>"
      ],
      "text/plain": [
       "                                                validTime  value  \\\n",
       "starttime                                                          \n",
       "2025-06-20 12:00:00+00:00  2025-06-20T12:00:00+00:00/PT1H   65.0   \n",
       "2025-06-20 13:00:00+00:00  2025-06-20T13:00:00+00:00/PT1H   68.0   \n",
       "2025-06-20 14:00:00+00:00  2025-06-20T14:00:00+00:00/PT1H   71.0   \n",
       "2025-06-20 15:00:00+00:00  2025-06-20T15:00:00+00:00/PT1H   74.0   \n",
       "2025-06-20 16:00:00+00:00  2025-06-20T16:00:00+00:00/PT1H   76.0   \n",
       "\n",
       "                                           starttime  duration  \n",
       "starttime                                                       \n",
       "2025-06-20 12:00:00+00:00  2025-06-20T12:00:00+00:00         1  \n",
       "2025-06-20 13:00:00+00:00  2025-06-20T13:00:00+00:00         1  \n",
       "2025-06-20 14:00:00+00:00  2025-06-20T14:00:00+00:00         1  \n",
       "2025-06-20 15:00:00+00:00  2025-06-20T15:00:00+00:00         1  \n",
       "2025-06-20 16:00:00+00:00  2025-06-20T16:00:00+00:00         1  "
      ]
     },
     "execution_count": 12,
     "metadata": {},
     "output_type": "execute_result"
    }
   ],
   "source": [
    "df.head()"
   ]
  },
  {
   "cell_type": "code",
   "execution_count": null,
   "id": "08b933e8",
   "metadata": {},
   "outputs": [
    {
     "name": "stderr",
     "output_type": "stream",
     "text": [
      "C:\\Users\\ajm89\\AppData\\Local\\Temp\\ipykernel_6816\\316197794.py:8: FutureWarning: 'H' is deprecated and will be removed in a future version, please use 'h' instead.\n",
      "  full_idx = pd.date_range(\n"
     ]
    },
    {
     "data": {
      "image/png": "[encoded data removed]",
      "text/plain": [
       "<Figure size 640x480 with 1 Axes>"
      ]
     },
     "metadata": {},
     "output_type": "display_data"
    }
   ],
   "source": [
    "import pandas as pd\n",
    "\n",
    "# Ensure starttime is datetime\n",
    "# 1. Parse your timestamps and set them as an index\n",
    "df[\"starttime\"] = pd.to_datetime(df[\"starttime\"])  # yields tz-aware UTC timestamps\n",
    "df = df.set_index(\"starttime\").sort_index()\n",
    "\n",
    "# 2. Build a complete hourly index from first to last time\n",
    "full_idx = pd.date_range(\n",
    "    start=df.index.min(), end=df.index.max() + pd.Timedelta(hours=1), freq=\"H\", tz=\"UTC\"\n",
    ")\n",
    "\n",
    "# 3. Reindex + forward-fill to “unpack” multi-hour blocks\n",
    "#    duration=2 entries will automatically fill the missing hour\n",
    "df_hourly = df.reindex(full_idx, method=\"ffill\")\n",
    "\n",
    "# 4. (Optional) Drop the now-redundant duration column\n",
    "df_hourly = df_hourly[[\"value\"]]\n",
    "\n",
    "# 5. Convert into your local timezone\n",
    "df_hourly = df_hourly.tz_convert(\"America/New_York\")\n",
    "\n",
    "# 6. Now you can…\n",
    "#    • plot it:\n",
    "ax = df_hourly.plot()\n",
    "ax.set_ylim(50, 100)\n",
    "ax.set_title(\"Hourly values (°F)\")  # or whatever unit/value you’re using\n",
    "\n",
    "#    • compute daily stats:\n",
    "daily = df_hourly.resample(\"D\").agg([\"min\", \"max\", \"mean\"])\n",
    "\n",
    "#    • compute rolling windows:\n",
    "roll3h = df_hourly.rolling(3).mean()\n",
    "\n",
    "#    • export:\n",
    "df_hourly.to_csv(\"hourly_values_nyc.csv\")\n"
   ]
  }
 ],
 "metadata": {
  "kernelspec": {
   "display_name": ".venv",
   "language": "python",
   "name": "python3"
  },
  "language_info": {
   "codemirror_mode": {
    "name": "ipython",
    "version": 3
   },
   "file_extension": ".py",
   "mimetype": "text/x-python",
   "name": "python",
   "nbconvert_exporter": "python",
   "pygments_lexer": "ipython3",
   "version": "3.13.5"
  }
 },
 "nbformat": 4,
 "nbformat_minor": 5
}
