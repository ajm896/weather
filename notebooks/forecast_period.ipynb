{
 "cells": [
  {
   "cell_type": "code",
   "execution_count": 1,
   "id": "dff2170b",
   "metadata": {},
   "outputs": [],
   "source": [
    "from weather import api"
   ]
  },
  {
   "cell_type": "code",
   "execution_count": 2,
   "id": "969a28a1",
   "metadata": {},
   "outputs": [],
   "source": [
    "# api.update_all_forecasts(locations=[\"home\", \"work\", \"church\", \"ehhs\"])"
   ]
  },
  {
   "cell_type": "code",
   "execution_count": 3,
   "id": "551d1c94",
   "metadata": {},
   "outputs": [],
   "source": [
    "forecast_data = api.load_cached_data(\"work_CACHED_FORECAST_DATA.json\")\n",
    "if not forecast_data:\n",
    "    raise ValueError(\"No cached forecast data found for 'work' location.\")"
   ]
  }
 ],
 "metadata": {
  "kernelspec": {
   "display_name": ".venv",
   "language": "python",
   "name": "python3"
  },
  "language_info": {
   "codemirror_mode": {
    "name": "ipython",
    "version": 3
   },
   "file_extension": ".py",
   "mimetype": "text/x-python",
   "name": "python",
   "nbconvert_exporter": "python",
   "pygments_lexer": "ipython3",
   "version": "3.13.3"
  }
 },
 "nbformat": 4,
 "nbformat_minor": 5
}
