{
 "cells": [
  {
   "cell_type": "code",
   "execution_count": 1,
   "id": "55b8ffa7",
   "metadata": {},
   "outputs": [],
   "source": [
    "%load_ext autoreload\n",
    "%autoreload 2\n",
    "from utils.models import *\n",
    "import utils.api as api\n",
    "CACHED_HOURLY_DATA = 'cached_hourly_data.json'\n",
    "CACHED_FORCAST_DATA = 'cached_forecast_data.json'"
   ]
  },
  {
   "cell_type": "code",
   "execution_count": 26,
   "id": "41bf5287",
   "metadata": {},
   "outputs": [
    {
     "name": "stdout",
     "output_type": "stream",
     "text": [
      "Forecast data saved to forecast.json\n"
     ]
    }
   ],
   "source": [
    "api.cache_forecast(api.fetch_hourly_forecast(), CACHED_HOURLY_DATA)"
   ]
  },
  {
   "cell_type": "code",
   "execution_count": 4,
   "id": "d4f38e89",
   "metadata": {},
   "outputs": [],
   "source": [
    "data = api.load_cached_data(CACHED_HOURLY_DATA)"
   ]
  },
  {
   "cell_type": "code",
   "execution_count": 10,
   "id": "76459825",
   "metadata": {},
   "outputs": [
    {
     "data": {
      "text/plain": [
       "GridpointHourlyForecastPeriod(number=1, name='This Afternoon', startTime='2025-06-20T14:00:00-04:00', endTime='2025-06-20T18:00:00-04:00', isDaytime=True, temperature=80, temperatureUnit='F', temperatureTrend='', probabilityOfPrecipitation=QuantitativeValue(value=10, unitCode='wmoUnit:percent'), windSpeed='2 to 6 mph', windDirection='NNW', icon='https://api.weather.gov/icons/land/day/bkn?size=medium', shortForecast='Partly Sunny', detailedForecast='Partly sunny, with a high near 80. North northwest wind 2 to 6 mph.')"
      ]
     },
     "execution_count": 10,
     "metadata": {},
     "output_type": "execute_result"
    }
   ],
   "source": [
    "m = GridpointHourlyForecastGeoJson.model_validate(data)\n",
    "m.properties.periods[0]"
   ]
  }
 ],
 "metadata": {
  "kernelspec": {
   "display_name": ".venv",
   "language": "python",
   "name": "python3"
  },
  "language_info": {
   "codemirror_mode": {
    "name": "ipython",
    "version": 3
   },
   "file_extension": ".py",
   "mimetype": "text/x-python",
   "name": "python",
   "nbconvert_exporter": "python",
   "pygments_lexer": "ipython3",
   "version": "3.13.5"
  }
 },
 "nbformat": 4,
 "nbformat_minor": 5
}
